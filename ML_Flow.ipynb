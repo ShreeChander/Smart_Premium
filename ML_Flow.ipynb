{
 "cells": [
  {
   "cell_type": "code",
   "execution_count": null,
   "metadata": {},
   "outputs": [],
   "source": []
  },
  {
   "cell_type": "code",
   "execution_count": 1,
   "metadata": {},
   "outputs": [],
   "source": [
    "import pandas as pd\n",
    "df=pd.read_csv(r\"CSV/train.csv\")"
   ]
  },
  {
   "cell_type": "code",
   "execution_count": 2,
   "metadata": {},
   "outputs": [],
   "source": [
    "z = (df['Annual Income']-df['Annual Income'].mean())/df['Annual Income'].std()\n",
    "df['z score'] = z\n",
    "df = df[(df['z score']<=3) & (df['z score']>=-3)]\n",
    "\n",
    "df['Marital Status'] = df[['Marital Status']].fillna(df['Marital Status'].mode()[0])\n",
    "df['Age'] = df[['Age']].fillna(df['Age'].median())\n",
    "df['Number of Dependents'] = df[['Number of Dependents']].fillna(df['Number of Dependents'].median())\n",
    "df['Previous Claims'] = df[['Previous Claims']].fillna(df['Previous Claims'].median())\n",
    "df['Occupation'] = df[['Occupation']].fillna(df['Occupation'].mode()[0])\n",
    "df['Health Score'] = df[['Health Score']].fillna(df['Health Score'].median())\n",
    "df['Credit Score'] = df[['Credit Score']].fillna(df['Credit Score'].median())\n",
    "df['Customer Feedback'] = df[['Customer Feedback']].fillna(df['Customer Feedback'].mode()[0])\n",
    "df['Vehicle Age'] = df[['Vehicle Age']].fillna(df['Vehicle Age'].median())\n",
    "df['Insurance Duration'] = df[['Insurance Duration']].fillna(df['Insurance Duration'].median())\n"
   ]
  },
  {
   "cell_type": "code",
   "execution_count": 3,
   "metadata": {},
   "outputs": [
    {
     "name": "stderr",
     "output_type": "stream",
     "text": [
      "C:\\Users\\shree\\AppData\\Local\\Temp\\ipykernel_19832\\1876511553.py:1: FutureWarning: Downcasting behavior in `replace` is deprecated and will be removed in a future version. To retain the old behavior, explicitly call `result.infer_objects(copy=False)`. To opt-in to the future behavior, set `pd.set_option('future.no_silent_downcasting', True)`\n",
      "  df['Gender']=df['Gender'].replace({'Female':0,'Male':1})\n",
      "C:\\Users\\shree\\AppData\\Local\\Temp\\ipykernel_19832\\1876511553.py:2: FutureWarning: Downcasting behavior in `replace` is deprecated and will be removed in a future version. To retain the old behavior, explicitly call `result.infer_objects(copy=False)`. To opt-in to the future behavior, set `pd.set_option('future.no_silent_downcasting', True)`\n",
      "  df['Smoking Status']=df['Smoking Status'].replace({'No':0,'Yes':1})\n"
     ]
    }
   ],
   "source": [
    "df['Gender']=df['Gender'].replace({'Female':0,'Male':1})\n",
    "df['Smoking Status']=df['Smoking Status'].replace({'No':0,'Yes':1})\n",
    "df=pd.get_dummies(df,columns=['Property Type',\n",
    "'Marital Status',\n",
    "'Education Level',\n",
    "'Occupation',\n",
    "'Location',\n",
    "'Policy Type',\n",
    "'Customer Feedback',\n",
    "'Exercise Frequency'],\n",
    "dtype='int')\n",
    "df.drop(['Policy Start Date'],axis=1,inplace=True)"
   ]
  },
  {
   "cell_type": "code",
   "execution_count": 4,
   "metadata": {},
   "outputs": [],
   "source": [
    "from sklearn.model_selection import train_test_split\n",
    "from sklearn.linear_model import LinearRegression\n",
    "from sklearn.tree import DecisionTreeRegressor\n",
    "from sklearn.ensemble import RandomForestRegressor\n",
    "from sklearn.metrics import mean_squared_error,r2_score,mean_absolute_error\n",
    "X=df.drop(['Premium Amount'],axis=1)\n",
    "# X.isna().sum()\n",
    "y=df['Premium Amount']\n",
    "x_train,x_test,y_train,y_test = train_test_split(X,y,test_size=0.2)"
   ]
  },
  {
   "cell_type": "code",
   "execution_count": 5,
   "metadata": {},
   "outputs": [],
   "source": [
    "# params={\n",
    "#     \"n_estimators\":25,\n",
    "#     \"max_depth\":10,\n",
    "#     \"n_jobs\":-1,\n",
    "# }\n",
    "# import mlflow\n",
    "# mlflow.set_experiment('First exp')\n",
    "# mlflow.set_tracking_uri(\"http://127.0.0.1:5000\")\n",
    "\n",
    "# with mlflow.start_run():\n",
    "#     mlflow.log_params(params)\n",
    "#     mlflow.log_metric('r2',r2_score(y_test,test_pred))\n",
    "#     mlflow.sklearn.log_model(model,\"Random Forest Regressor\")"
   ]
  },
  {
   "cell_type": "code",
   "execution_count": 6,
   "metadata": {},
   "outputs": [],
   "source": [
    "import xgboost as xgb\n",
    "models=[(\n",
    "    \"RandomForestRegressor\",\n",
    "    {\"n_estimators\":40,\"max_depth\":5,\"n_jobs\":-1},\n",
    "    RandomForestRegressor(),\n",
    "    (x_train,y_train),\n",
    "    (x_test,y_test)\n",
    "    \n",
    "),\n",
    "(\n",
    "    \"XGBRegressor\",\n",
    "    {'objective':'reg:squarederror',\"n_estimators\":40,\"max_depth\":5,\"n_jobs\":-1},\n",
    "    xgb.XGBRegressor(),\n",
    "    (x_train,y_train),\n",
    "    (x_test,y_test)\n",
    "\n",
    "),\n",
    "(\n",
    "    \"LinearRegression\",\n",
    "    {},\n",
    "    LinearRegression(),\n",
    "    (x_train,y_train),\n",
    "    (x_test,y_test)\n",
    "\n",
    "),\n",
    "(\n",
    "    \"DecisionTreeRegressor\",\n",
    "    {},\n",
    "    DecisionTreeRegressor(),\n",
    "    (x_train,y_train),\n",
    "    (x_test,y_test)\n",
    "\n",
    ")\n",
    "]"
   ]
  },
  {
   "cell_type": "code",
   "execution_count": 20,
   "metadata": {},
   "outputs": [],
   "source": [
    "import numpy as np\n",
    "from sklearn.metrics import mean_absolute_error, mean_squared_error, r2_score, mean_squared_log_error\n",
    "reports=[]\n",
    "for model_name,params,model,train_set,test_set in models:\n",
    "    x_train=train_set[0]\n",
    "    y_train=train_set[1]\n",
    "    x_test=test_set[0]\n",
    "    y_test=test_set[1]\n",
    "\n",
    "    model.set_params(**params)\n",
    "    model.fit(x_train,y_train)\n",
    "    train_pred = model.predict(x_train)  # Added this line\n",
    "    y_pred=model.predict(x_test)\n",
    "\n",
    "    rmse=np.sqrt(mean_squared_error(y_test, y_pred))\n",
    "    mae=mean_absolute_error(y_test,y_pred)\n",
    "    r2=r2_score(y_train,train_pred)\n",
    "    rsmle = np.sqrt(mean_squared_log_error(y_train, np.maximum(train_pred, 0)))\n",
    "    reports.append((model_name,rmse,mae,r2,rsmle))"
   ]
  },
  {
   "cell_type": "code",
   "execution_count": 21,
   "metadata": {},
   "outputs": [
    {
     "name": "stderr",
     "output_type": "stream",
     "text": [
      "2025/03/31 10:25:44 WARNING mlflow.models.model: Model logged without a signature and input example. Please set `input_example` parameter when logging the model to auto infer the model signature.\n",
      "D:\\conda\\Lib\\site-packages\\xgboost\\core.py:158: UserWarning: [10:25:44] WARNING: D:\\bld\\xgboost-split_1737531311373\\work\\src\\c_api\\c_api.cc:1374: Saving model in the UBJSON format as default.  You can use file extension: `json`, `ubj` or `deprecated` to choose between formats.\n",
      "  warnings.warn(smsg, UserWarning)\n"
     ]
    },
    {
     "name": "stdout",
     "output_type": "stream",
     "text": [
      "🏃 View run RandomForestRegressor at: http://127.0.0.1:5000/#/experiments/267407948755392247/runs/81813e1ca41b467582fd5160322fee11\n",
      "🧪 View experiment at: http://127.0.0.1:5000/#/experiments/267407948755392247\n"
     ]
    },
    {
     "name": "stderr",
     "output_type": "stream",
     "text": [
      "2025/03/31 10:25:47 WARNING mlflow.models.model: Model logged without a signature and input example. Please set `input_example` parameter when logging the model to auto infer the model signature.\n"
     ]
    },
    {
     "name": "stdout",
     "output_type": "stream",
     "text": [
      "🏃 View run XGBRegressor at: http://127.0.0.1:5000/#/experiments/267407948755392247/runs/5348ca4c559a4b7ba2302e3fc12e9f80\n",
      "🧪 View experiment at: http://127.0.0.1:5000/#/experiments/267407948755392247\n"
     ]
    },
    {
     "name": "stderr",
     "output_type": "stream",
     "text": [
      "2025/03/31 10:25:51 WARNING mlflow.models.model: Model logged without a signature and input example. Please set `input_example` parameter when logging the model to auto infer the model signature.\n"
     ]
    },
    {
     "name": "stdout",
     "output_type": "stream",
     "text": [
      "🏃 View run LinearRegression at: http://127.0.0.1:5000/#/experiments/267407948755392247/runs/f3ad0419f48c4a6189856981c21767a8\n",
      "🧪 View experiment at: http://127.0.0.1:5000/#/experiments/267407948755392247\n"
     ]
    },
    {
     "name": "stderr",
     "output_type": "stream",
     "text": [
      "2025/03/31 10:25:54 WARNING mlflow.models.model: Model logged without a signature and input example. Please set `input_example` parameter when logging the model to auto infer the model signature.\n"
     ]
    },
    {
     "name": "stdout",
     "output_type": "stream",
     "text": [
      "🏃 View run DecisionTreeRegressor at: http://127.0.0.1:5000/#/experiments/267407948755392247/runs/0bda8729c1b54104a0e1b1a5e0435541\n",
      "🧪 View experiment at: http://127.0.0.1:5000/#/experiments/267407948755392247\n"
     ]
    }
   ],
   "source": [
    "import mlflow\n",
    "\n",
    "mlflow.set_experiment('Smart_Premium_MLs')\n",
    "mlflow.set_tracking_uri(\"http://127.0.0.1:5000\")\n",
    "\n",
    "for i, element in enumerate(models):\n",
    "    model_name = element[0]\n",
    "    params = element[1]\n",
    "    model = element[2]\n",
    "    report = reports[i]\n",
    "    \n",
    "    with mlflow.start_run(run_name=model_name):\n",
    "        mlflow.log_params(params)\n",
    "        mlflow.log_metric('RMSE', report[1])  # ✅ Fixed syntax\n",
    "        mlflow.log_metric('MAE', report[2])\n",
    "        mlflow.log_metric('R2', report[3])\n",
    "        mlflow.log_metric('RSMLE', report[4])\n",
    "        \n",
    "        if 'XGBRegressor' in model_name:\n",
    "            mlflow.xgboost.log_model(model, \"model\")\n",
    "        else:\n",
    "            mlflow.sklearn.log_model(model, \"model\")"
   ]
  },
  {
   "cell_type": "code",
   "execution_count": null,
   "metadata": {},
   "outputs": [],
   "source": []
  }
 ],
 "metadata": {
  "kernelspec": {
   "display_name": "Python [conda env:base] *",
   "language": "python",
   "name": "conda-base-py"
  },
  "language_info": {
   "codemirror_mode": {
    "name": "ipython",
    "version": 3
   },
   "file_extension": ".py",
   "mimetype": "text/x-python",
   "name": "python",
   "nbconvert_exporter": "python",
   "pygments_lexer": "ipython3",
   "version": "3.12.3"
  }
 },
 "nbformat": 4,
 "nbformat_minor": 4
}
